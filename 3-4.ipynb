{
 "cells": [
  {
   "cell_type": "code",
   "execution_count": 1,
   "metadata": {},
   "outputs": [
    {
     "name": "stderr",
     "output_type": "stream",
     "text": [
      "Using TensorFlow backend.\n"
     ]
    }
   ],
   "source": [
    "from keras.datasets import imdb\n",
    "(train_data,train_labels),(test_data,test_labels)=imdb.load_data(num_words=10000)"
   ]
  },
  {
   "cell_type": "code",
   "execution_count": 4,
   "metadata": {},
   "outputs": [
    {
     "data": {
      "text/plain": [
       "9999"
      ]
     },
     "execution_count": 4,
     "metadata": {},
     "output_type": "execute_result"
    }
   ],
   "source": [
    "max([max(sequence)for sequence in train_data])"
   ]
  },
  {
   "cell_type": "code",
   "execution_count": 2,
   "metadata": {},
   "outputs": [
    {
     "data": {
      "text/plain": [
       "array([0., 1., 1., ..., 0., 0., 0.])"
      ]
     },
     "execution_count": 2,
     "metadata": {},
     "output_type": "execute_result"
    }
   ],
   "source": [
    "import numpy as np\n",
    "\n",
    "def vectorize_sequences(sequences,dimension=10000):\n",
    "    results=np.zeros((len(sequences),dimension))\n",
    "    for i, sequence in enumerate(sequences):\n",
    "        results[i,sequence]=1.0\n",
    "    return results\n",
    "\n",
    "x_train=vectorize_sequences(train_data)\n",
    "x_test=vectorize_sequences(test_data)\n",
    "\n",
    "x_train[0]"
   ]
  },
  {
   "cell_type": "code",
   "execution_count": 7,
   "metadata": {},
   "outputs": [
    {
     "data": {
      "text/plain": [
       "array([1., 0., 0., ..., 0., 1., 0.], dtype=float32)"
      ]
     },
     "execution_count": 7,
     "metadata": {},
     "output_type": "execute_result"
    }
   ],
   "source": [
    "y_train=np.asarray(train_labels).astype('float32')\n",
    "y_test=np.asarray(test_labels).astype('float32')\n",
    "y_train"
   ]
  },
  {
   "cell_type": "code",
   "execution_count": 60,
   "metadata": {},
   "outputs": [],
   "source": [
    "from keras import models\n",
    "from keras import layers\n",
    "\n",
    "from keras import optimizers\n",
    "\n",
    "from keras import losses\n",
    "from keras import metrics\n",
    "\n",
    "model=models.Sequential()\n",
    "model.add(layers.Dense(16, input_shape=(10000,) ,activation='relu'))\n",
    "model.add(layers.Dense(16,activation='relu'))\n",
    "model.add(layers.Dense(1,activation='sigmoid'))\n",
    "\n",
    "#model.compile(optimizer=optimizers.RMSprop(lr=0.001),\n",
    "              #loss=losses.binary_crossentropy,\n",
    "              #metrics=[metrics.binary_accuracy])\n"
   ]
  },
  {
   "cell_type": "code",
   "execution_count": 61,
   "metadata": {},
   "outputs": [
    {
     "name": "stdout",
     "output_type": "stream",
     "text": [
      "Train on 15000 samples, validate on 1000 samples\n",
      "Epoch 1/20\n",
      "15000/15000 [==============================] - 2s 148us/step - loss: 0.5357 - acc: 0.7833 - val_loss: 0.4101 - val_acc: 0.8470\n",
      "Epoch 2/20\n",
      "15000/15000 [==============================] - 2s 123us/step - loss: 0.3284 - acc: 0.8989 - val_loss: 0.3115 - val_acc: 0.8760\n",
      "Epoch 3/20\n",
      "15000/15000 [==============================] - 2s 121us/step - loss: 0.2372 - acc: 0.9270 - val_loss: 0.2780 - val_acc: 0.8800\n",
      "Epoch 4/20\n",
      "15000/15000 [==============================] - 2s 120us/step - loss: 0.1832 - acc: 0.9421 - val_loss: 0.2651 - val_acc: 0.8800\n",
      "Epoch 5/20\n",
      "15000/15000 [==============================] - 2s 120us/step - loss: 0.1469 - acc: 0.9547 - val_loss: 0.2720 - val_acc: 0.8810\n",
      "Epoch 6/20\n",
      "15000/15000 [==============================] - 2s 122us/step - loss: 0.1207 - acc: 0.9633 - val_loss: 0.2756 - val_acc: 0.8840\n",
      "Epoch 7/20\n",
      "15000/15000 [==============================] - 2s 121us/step - loss: 0.0983 - acc: 0.9712 - val_loss: 0.2914 - val_acc: 0.8800\n",
      "Epoch 8/20\n",
      "15000/15000 [==============================] - 2s 122us/step - loss: 0.0797 - acc: 0.9801 - val_loss: 0.3167 - val_acc: 0.8750\n",
      "Epoch 9/20\n",
      "15000/15000 [==============================] - 2s 122us/step - loss: 0.0654 - acc: 0.9841 - val_loss: 0.3226 - val_acc: 0.8890\n",
      "Epoch 10/20\n",
      "15000/15000 [==============================] - 2s 122us/step - loss: 0.0531 - acc: 0.9875 - val_loss: 0.3518 - val_acc: 0.8760\n",
      "Epoch 11/20\n",
      "15000/15000 [==============================] - 2s 123us/step - loss: 0.0417 - acc: 0.9910 - val_loss: 0.3665 - val_acc: 0.8770\n",
      "Epoch 12/20\n",
      "15000/15000 [==============================] - 2s 122us/step - loss: 0.0305 - acc: 0.9946 - val_loss: 0.3976 - val_acc: 0.8740\n",
      "Epoch 13/20\n",
      "15000/15000 [==============================] - 2s 121us/step - loss: 0.0240 - acc: 0.9958 - val_loss: 0.4310 - val_acc: 0.8770\n",
      "Epoch 14/20\n",
      "15000/15000 [==============================] - 2s 136us/step - loss: 0.0186 - acc: 0.9973 - val_loss: 0.4564 - val_acc: 0.8750\n",
      "Epoch 15/20\n",
      "15000/15000 [==============================] - 2s 121us/step - loss: 0.0162 - acc: 0.9970 - val_loss: 0.4643 - val_acc: 0.8770\n",
      "Epoch 16/20\n",
      "15000/15000 [==============================] - 2s 121us/step - loss: 0.0093 - acc: 0.9993 - val_loss: 0.4905 - val_acc: 0.8710\n",
      "Epoch 17/20\n",
      "15000/15000 [==============================] - 2s 120us/step - loss: 0.0110 - acc: 0.9977 - val_loss: 0.5376 - val_acc: 0.8790\n",
      "Epoch 18/20\n",
      "15000/15000 [==============================] - 2s 122us/step - loss: 0.0043 - acc: 0.9999 - val_loss: 0.5593 - val_acc: 0.8760\n",
      "Epoch 19/20\n",
      "15000/15000 [==============================] - 2s 122us/step - loss: 0.0070 - acc: 0.9986 - val_loss: 0.6140 - val_acc: 0.8750\n",
      "Epoch 20/20\n",
      "15000/15000 [==============================] - 2s 122us/step - loss: 0.0023 - acc: 0.9999 - val_loss: 0.6339 - val_acc: 0.8740\n"
     ]
    }
   ],
   "source": [
    "x_val=x_train[:1000]\n",
    "partial_x_train=x_train[10000:]\n",
    "y_val=y_train[:1000]\n",
    "partial_y_train=y_train[10000:]\n",
    "\n",
    "model.compile(optimizer='rmsprop',\n",
    "              loss='binary_crossentropy',\n",
    "              metrics=['acc'])\n",
    "md=model.fit(partial_x_train,partial_y_train,epochs=20,batch_size=512,validation_data=(x_val,y_val))"
   ]
  },
  {
   "cell_type": "code",
   "execution_count": 62,
   "metadata": {},
   "outputs": [
    {
     "data": {
      "text/plain": [
       "dict_keys(['val_loss', 'val_acc', 'loss', 'acc'])"
      ]
     },
     "execution_count": 62,
     "metadata": {},
     "output_type": "execute_result"
    }
   ],
   "source": [
    "history_dict=md.history\n",
    "history_dict.keys()"
   ]
  },
  {
   "cell_type": "code",
   "execution_count": 63,
   "metadata": {},
   "outputs": [
    {
     "data": {
      "image/png": "[encoded data removed]",
      "text/plain": [
       "<Figure size 432x288 with 1 Axes>"
      ]
     },
     "metadata": {
      "needs_background": "light"
     },
     "output_type": "display_data"
    }
   ],
   "source": [
    "import matplotlib.pyplot as plt\n",
    "history_dict=md.history\n",
    "loss_values=history_dict['loss']\n",
    "val_loss_values=history_dict['val_loss']\n",
    "\n",
    "epochs=range(1,len(loss_values)+1)\n",
    "\n",
    "plt.plot(epochs,loss_values,'bo', label='Training loss')\n",
    "plt.plot(epochs,val_loss_values,'b', label='Validation loss')\n",
    "plt.title('Training and Validation loss')\n",
    "plt.xlabel('epochs')\n",
    "plt.ylabel('loss')\n",
    "plt.legend()\n",
    "\n",
    "plt.show()"
   ]
  },
  {
   "cell_type": "code",
   "execution_count": 64,
   "metadata": {},
   "outputs": [
    {
     "data": {
      "image/png": "[encoded data removed]",
      "text/plain": [
       "<Figure size 432x288 with 1 Axes>"
      ]
     },
     "metadata": {
      "needs_background": "light"
     },
     "output_type": "display_data"
    }
   ],
   "source": [
    "plt.clf()\n",
    "acc=history_dict['acc']\n",
    "val_acc=history_dict['val_acc']\n",
    "\n",
    "plt.plot(epochs,acc,'bo', label='Training acc')\n",
    "plt.plot(epochs,val_acc,'b', label='Validation acc')\n",
    "plt.title('Training and Validation accuracy')\n",
    "plt.xlabel('epochs')\n",
    "plt.ylabel('accuracy')\n",
    "plt.legend()\n",
    "\n",
    "plt.show()"
   ]
  },
  {
   "cell_type": "code",
   "execution_count": null,
   "metadata": {},
   "outputs": [],
   "source": []
  }
 ],
 "metadata": {
  "kernelspec": {
   "display_name": "Python 3",
   "language": "python",
   "name": "python3"
  },
  "language_info": {
   "codemirror_mode": {
    "name": "ipython",
    "version": 3
   },
   "file_extension": ".py",
   "mimetype": "text/x-python",
   "name": "python",
   "nbconvert_exporter": "python",
   "pygments_lexer": "ipython3",
   "version": "3.7.3"
  }
 },
 "nbformat": 4,
 "nbformat_minor": 2
}
