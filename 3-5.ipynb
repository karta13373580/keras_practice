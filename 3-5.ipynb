{
 "cells": [
  {
   "cell_type": "code",
   "execution_count": 44,
   "metadata": {},
   "outputs": [
    {
     "data": {
      "text/plain": [
       "2246"
      ]
     },
     "execution_count": 44,
     "metadata": {},
     "output_type": "execute_result"
    }
   ],
   "source": [
    "from keras.datasets import reuters\n",
    "(train_data,train_labels),(test_data,test_labels)=reuters.load_data(num_words=10000)\n",
    "len(train_data)\n",
    "len(test_data)"
   ]
  },
  {
   "cell_type": "code",
   "execution_count": 45,
   "metadata": {},
   "outputs": [],
   "source": [
    "#解碼單字\n",
    "word_index=reuters.get_word_index()\n",
    "reverse_word_index=dict( [ (value,key)for(key,value)in word_index.items() ] )\n",
    "decoded_newswire=''.join( [reverse_word_index.get(i - 3,'?')for i in train_data[0] ] )"
   ]
  },
  {
   "cell_type": "code",
   "execution_count": 46,
   "metadata": {},
   "outputs": [],
   "source": [
    "import numpy as np\n",
    "\n",
    "def vectorize_sequences(sequences,dimension=10000):\n",
    "    results=np.zeros((len(sequences),dimension))\n",
    "    for i,sequences in enumerate(sequences):\n",
    "        results[i,sequences]=1.\n",
    "        return results\n",
    "x_train=vectorize_sequences(train_data)\n",
    "x_test=vectorize_sequences(test_data)"
   ]
  },
  {
   "cell_type": "code",
   "execution_count": 47,
   "metadata": {},
   "outputs": [],
   "source": [
    "import tensorflow as tf\n",
    "from tensorflow import keras\n",
    "from tensorflow.keras.models import Sequential\n",
    "from tensorflow.keras.layers import Input, Dense, Activation, Dropout\n",
    "\n",
    "model=Sequential()\n",
    "model.add(Dense(64, input_shape=(10000,), activation='relu'))\n",
    "model.add(Dense(64, activation='relu'))\n",
    "model.add(Dense(46, activation='softmax'))\n",
    "\n",
    "model.compile(optimizer='rmsprop',loss='categorical_crossentropy',metrics=['accuracy'])"
   ]
  },
  {
   "cell_type": "code",
   "execution_count": 48,
   "metadata": {},
   "outputs": [],
   "source": [
    "from keras.utils.np_utils import to_categorical\n",
    "\n",
    "one_hot_train_labels=to_categorical(train_labels)\n",
    "one_hot_test_labels=to_categorical(test_labels)"
   ]
  },
  {
   "cell_type": "code",
   "execution_count": 49,
   "metadata": {},
   "outputs": [],
   "source": [
    "#從train分割驗證集\n",
    "partial_x_train=x_train[1000:]\n",
    "partial_y_train=one_hot_train_labels[1000:]\n",
    "\n",
    "x_val=x_train[:1000]\n",
    "y_val=one_hot_train_labels[:1000]"
   ]
  },
  {
   "cell_type": "code",
   "execution_count": 50,
   "metadata": {},
   "outputs": [
    {
     "name": "stdout",
     "output_type": "stream",
     "text": [
      "Train on 7982 samples, validate on 1000 samples\n",
      "Epoch 1/20\n",
      "7982/7982 [==============================] - 1s 156us/sample - loss: 3.8119 - acc: 0.1531 - val_loss: 3.7979 - val_acc: 0.3530\n",
      "Epoch 2/20\n",
      "7982/7982 [==============================] - 1s 116us/sample - loss: 3.7881 - acc: 0.3300 - val_loss: 3.7770 - val_acc: 0.3530\n",
      "Epoch 3/20\n",
      "7982/7982 [==============================] - 1s 124us/sample - loss: 3.7677 - acc: 0.3514 - val_loss: 3.7571 - val_acc: 0.3530\n",
      "Epoch 4/20\n",
      "7982/7982 [==============================] - 1s 110us/sample - loss: 3.7478 - acc: 0.3514 - val_loss: 3.7373 - val_acc: 0.3530\n",
      "Epoch 5/20\n",
      "7982/7982 [==============================] - 1s 112us/sample - loss: 3.7280 - acc: 0.3514 - val_loss: 3.7177 - val_acc: 0.3530\n",
      "Epoch 6/20\n",
      "7982/7982 [==============================] - 1s 113us/sample - loss: 3.7084 - acc: 0.3514 - val_loss: 3.6983 - val_acc: 0.3530\n",
      "Epoch 7/20\n",
      "7982/7982 [==============================] - 1s 111us/sample - loss: 3.6889 - acc: 0.3514 - val_loss: 3.6790 - val_acc: 0.3530\n",
      "Epoch 8/20\n",
      "7982/7982 [==============================] - 1s 112us/sample - loss: 3.6696 - acc: 0.3514 - val_loss: 3.6598 - val_acc: 0.3530\n",
      "Epoch 9/20\n",
      "7982/7982 [==============================] - 1s 113us/sample - loss: 3.6504 - acc: 0.3514 - val_loss: 3.6408 - val_acc: 0.3530\n",
      "Epoch 10/20\n",
      "7982/7982 [==============================] - 1s 110us/sample - loss: 3.6315 - acc: 0.3514 - val_loss: 3.6219 - val_acc: 0.3530\n",
      "Epoch 11/20\n",
      "7982/7982 [==============================] - 1s 112us/sample - loss: 3.6126 - acc: 0.3514 - val_loss: 3.6032 - val_acc: 0.3530\n",
      "Epoch 12/20\n",
      "7982/7982 [==============================] - 1s 114us/sample - loss: 3.5940 - acc: 0.3514 - val_loss: 3.5846 - val_acc: 0.3530\n",
      "Epoch 13/20\n",
      "7982/7982 [==============================] - 1s 115us/sample - loss: 3.5754 - acc: 0.3514 - val_loss: 3.5662 - val_acc: 0.3530\n",
      "Epoch 14/20\n",
      "7982/7982 [==============================] - 1s 119us/sample - loss: 3.5571 - acc: 0.3514 - val_loss: 3.5479 - val_acc: 0.3530\n",
      "Epoch 15/20\n",
      "7982/7982 [==============================] - 1s 110us/sample - loss: 3.5388 - acc: 0.3514 - val_loss: 3.5298 - val_acc: 0.3530\n",
      "Epoch 16/20\n",
      "7982/7982 [==============================] - 1s 111us/sample - loss: 3.5207 - acc: 0.3514 - val_loss: 3.5118 - val_acc: 0.3530\n",
      "Epoch 17/20\n",
      "7982/7982 [==============================] - 1s 112us/sample - loss: 3.5027 - acc: 0.3514 - val_loss: 3.4940 - val_acc: 0.3530\n",
      "Epoch 18/20\n",
      "7982/7982 [==============================] - 1s 113us/sample - loss: 3.4850 - acc: 0.3514 - val_loss: 3.4764 - val_acc: 0.3530\n",
      "Epoch 19/20\n",
      "7982/7982 [==============================] - 1s 113us/sample - loss: 3.4674 - acc: 0.3514 - val_loss: 3.4588 - val_acc: 0.3530\n",
      "Epoch 20/20\n",
      "7982/7982 [==============================] - 1s 116us/sample - loss: 3.4500 - acc: 0.3514 - val_loss: 3.4415 - val_acc: 0.3530\n"
     ]
    }
   ],
   "source": [
    "md=model.fit(partial_x_train,partial_y_train,epochs=20,batch_size=512,validation_data=(x_val,y_val))"
   ]
  },
  {
   "cell_type": "code",
   "execution_count": 51,
   "metadata": {},
   "outputs": [
    {
     "data": {
      "image/png": "[encoded data removed]",
      "text/plain": [
       "<Figure size 432x288 with 1 Axes>"
      ]
     },
     "metadata": {
      "needs_background": "light"
     },
     "output_type": "display_data"
    }
   ],
   "source": [
    "import matplotlib.pyplot as plt\n",
    "loss=md.history['loss']\n",
    "val_loss=md.history['val_loss']\n",
    "epochs=range(1,len(loss)+1)\n",
    "\n",
    "plt.plot(epochs,loss,'bo',label='training loss')\n",
    "plt.plot(epochs,val_loss,'b',label='validation_loss')\n",
    "plt.title(\"training nad validation loss\")\n",
    "plt.xlabel('epoch')\n",
    "plt.ylabel('loss')\n",
    "plt.legend()\n",
    "\n",
    "plt.show()"
   ]
  },
  {
   "cell_type": "code",
   "execution_count": 53,
   "metadata": {},
   "outputs": [],
   "source": [
    "prediction=model.predict(x_test)"
   ]
  },
  {
   "cell_type": "code",
   "execution_count": 55,
   "metadata": {},
   "outputs": [
    {
     "data": {
      "text/plain": [
       "(46,)"
      ]
     },
     "execution_count": 55,
     "metadata": {},
     "output_type": "execute_result"
    }
   ],
   "source": [
    "prediction[0].shape"
   ]
  },
  {
   "cell_type": "code",
   "execution_count": 57,
   "metadata": {},
   "outputs": [
    {
     "data": {
      "text/plain": [
       "0.99999994"
      ]
     },
     "execution_count": 57,
     "metadata": {},
     "output_type": "execute_result"
    }
   ],
   "source": [
    "np.sum(prediction[0])"
   ]
  },
  {
   "cell_type": "code",
   "execution_count": 58,
   "metadata": {},
   "outputs": [
    {
     "data": {
      "text/plain": [
       "4"
      ]
     },
     "execution_count": 58,
     "metadata": {},
     "output_type": "execute_result"
    }
   ],
   "source": [
    "np.argmax(prediction)"
   ]
  },
  {
   "cell_type": "code",
   "execution_count": null,
   "metadata": {},
   "outputs": [],
   "source": []
  }
 ],
 "metadata": {
  "kernelspec": {
   "display_name": "Python 3",
   "language": "python",
   "name": "python3"
  },
  "language_info": {
   "codemirror_mode": {
    "name": "ipython",
    "version": 3
   },
   "file_extension": ".py",
   "mimetype": "text/x-python",
   "name": "python",
   "nbconvert_exporter": "python",
   "pygments_lexer": "ipython3",
   "version": "3.7.3"
  }
 },
 "nbformat": 4,
 "nbformat_minor": 4
}
